{
 "cells": [
  {
   "cell_type": "code",
   "execution_count": 1,
   "id": "e7d54ee9-a9ea-4812-93b4-e1fa5c82a958",
   "metadata": {},
   "outputs": [],
   "source": [
    "import torch\n",
    "from torch import nn\n",
    "from d2l import torch as d2l\n",
    "\n",
    "def corr2d(X,K):\n",
    "    h,w=K.shape\n",
    "    Y=torch.zeros((X.shape[0]-h+1,X.shape[1]-w+1))\n",
    "    for i in range(Y.shape[0]):\n",
    "        for j in range(Y.shape[1]):\n",
    "            Y[i,j]=(X[i:i+h,j:j+w]*K).sum()\n",
    "    return Y"
   ]
  },
  {
   "cell_type": "code",
   "execution_count": 3,
   "id": "5c5368bf-99cf-4800-a69a-e5c358815f66",
   "metadata": {},
   "outputs": [],
   "source": [
    "class Conv2d(nn.Module):\n",
    "    def __init__(self,kernel_size):\n",
    "        self.weight=nn.Parameter(torch.rand(kernel_size))\n",
    "        self.bias=nn.Parameter(torch.zeros(1))\n",
    "    def forward(self,X):\n",
    "        return corr2d(X,self.weight)+self.bias\n"
   ]
  },
  {
   "cell_type": "code",
   "execution_count": 5,
   "id": "1c72a1ee-b1eb-43c9-9060-c4405c709d18",
   "metadata": {},
   "outputs": [
    {
     "data": {
      "text/plain": [
       "tensor([[ 0.,  1.,  0.,  0.,  0., -1.,  0.],\n",
       "        [ 0.,  1.,  0.,  0.,  0., -1.,  0.],\n",
       "        [ 0.,  1.,  0.,  0.,  0., -1.,  0.],\n",
       "        [ 0.,  1.,  0.,  0.,  0., -1.,  0.],\n",
       "        [ 0.,  1.,  0.,  0.,  0., -1.,  0.],\n",
       "        [ 0.,  1.,  0.,  0.,  0., -1.,  0.]])"
      ]
     },
     "execution_count": 5,
     "metadata": {},
     "output_type": "execute_result"
    }
   ],
   "source": [
    "X=torch.ones((6,8))\n",
    "X[:,2:6]=0\n",
    "K=torch.tensor([[1.0,-1.0]])\n",
    "Y=corr2d(X,K)\n",
    "Y"
   ]
  },
  {
   "cell_type": "code",
   "execution_count": 8,
   "id": "3ad2221d-f7ea-402c-ad29-975293a4b39a",
   "metadata": {},
   "outputs": [
    {
     "name": "stdout",
     "output_type": "stream",
     "text": [
      "epoch2,loss6.169\n",
      "epoch4,loss1.992\n",
      "epoch6,loss0.726\n",
      "epoch8,loss0.282\n",
      "epoch10,loss0.113\n",
      "tensor([[ 0.9578, -1.0267]])\n"
     ]
    }
   ],
   "source": [
    "conv2d=nn.Conv2d(1,1,kernel_size=(1,2),bias=False)\n",
    "X=X.reshape(1,1,6,8)\n",
    "Y=Y.reshape(1,1,6,7)\n",
    "for i in range(10):\n",
    "    Y_hat=conv2d(X)\n",
    "    l=(Y_hat-Y)**2\n",
    "    conv2d.zero_grad()\n",
    "    l.sum().backward()\n",
    "    conv2d.weight.data[:]-=3e-2*conv2d.weight.grad\n",
    "    if(i+1)%2==0:\n",
    "        print(f'epoch{i+1},loss{l.sum():.3f}')\n",
    "print(conv2d.weight.data.reshape((1,2)))"
   ]
  },
  {
   "cell_type": "code",
   "execution_count": null,
   "id": "89c27f36-56b0-4421-a275-bde441602af7",
   "metadata": {},
   "outputs": [],
   "source": []
  }
 ],
 "metadata": {
  "kernelspec": {
   "display_name": "d2l",
   "language": "python",
   "name": "d2l"
  },
  "language_info": {
   "codemirror_mode": {
    "name": "ipython",
    "version": 3
   },
   "file_extension": ".py",
   "mimetype": "text/x-python",
   "name": "python",
   "nbconvert_exporter": "python",
   "pygments_lexer": "ipython3",
   "version": "3.9.23"
  }
 },
 "nbformat": 4,
 "nbformat_minor": 5
}
